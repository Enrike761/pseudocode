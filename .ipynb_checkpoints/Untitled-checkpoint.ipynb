{
 "cells": [
  {
   "cell_type": "code",
   "execution_count": 3,
   "id": "e485bca6-a93b-4b32-b7fa-7d9d9edf58c8",
   "metadata": {},
   "outputs": [
    {
     "name": "stdout",
     "output_type": "stream",
     "text": [
      "2\n",
      "-345\n"
     ]
    }
   ],
   "source": [
    "numbers = [34, 15, 88, 2]\n",
    "smallest_number = min(numbers)\n",
    "print(smallest_number)          \n",
    "numbers2 = [34, -345, -1, 100]\n",
    "smallest_number2 = min(numbers2)\n",
    "print(smallest_number2)"
   ]
  },
  {
   "cell_type": "code",
   "execution_count": 5,
   "id": "c9ed9a4a-9ca4-44e8-b01e-63e1af9ef441",
   "metadata": {},
   "outputs": [],
   "source": [
    "def valid_pin(pin: str) -> bool:\n",
    "    input(\"4567\")\n",
    "    return True"
   ]
  },
  {
   "cell_type": "code",
   "execution_count": 7,
   "id": "a77e1507-a317-45e2-9ae5-ccd1dbf436af",
   "metadata": {},
   "outputs": [
    {
     "name": "stdin",
     "output_type": "stream",
     "text": [
      "Enter a pin: 5445\n"
     ]
    },
    {
     "name": "stdout",
     "output_type": "stream",
     "text": [
      "Valid PIN.\n"
     ]
    }
   ],
   "source": [
    "def valid_pin(pin: str) -> bool:\n",
    "    \n",
    "  return (len(pin) == 4 or len(pin) == 6) and pin.isdigit()\n",
    "\n",
    "pin_input = input(\"Enter a pin:\")\n",
    "if valid_pin(pin_input):\n",
    "    print(\"Valid PIN.\")\n",
    "else:\n",
    "    print(\"Invalid PIN. A valid PIN must be exactly 4 or 6 digits.\")"
   ]
  },
  {
   "cell_type": "code",
   "execution_count": 9,
   "id": "41c63f7b-d1fe-4741-9f81-58a294c1d69b",
   "metadata": {},
   "outputs": [
    {
     "name": "stdin",
     "output_type": "stream",
     "text": [
      "Enter a pin: 67445\n"
     ]
    },
    {
     "name": "stdout",
     "output_type": "stream",
     "text": [
      "Invalid PIN. A valid PIN must be exactly 4 or 6 digits.\n"
     ]
    }
   ],
   "source": [
    "def valid_pin(pin: str) -> bool:\n",
    "    \n",
    "  return (len(pin) == 4 or len(pin) == 6) and pin.isdigit()\n",
    "\n",
    "pin_input = input(\"Enter a pin:\")\n",
    "if valid_pin(pin_input):\n",
    "    print(\"Valid PIN.\")\n",
    "else:\n",
    "    print(\"Invalid PIN. A valid PIN must be exactly 4 or 6 digits.\")"
   ]
  },
  {
   "cell_type": "code",
   "execution_count": 13,
   "id": "b39bedd5-e0fa-4918-8a7b-664a8c8829d4",
   "metadata": {},
   "outputs": [
    {
     "name": "stdin",
     "output_type": "stream",
     "text": [
      "Enter a pin: 65556\n"
     ]
    },
    {
     "name": "stdout",
     "output_type": "stream",
     "text": [
      "Invalid PIN. A valid PIN must be exactly 4 or 6 digits.\n"
     ]
    }
   ],
   "source": [
    "def valid_pin(pin):\n",
    "    \n",
    "  return (len(pin) == 4 or len(pin) == 6) and pin.isdigit()\n",
    "\n",
    "pin_input = input(\"Enter a pin:\")\n",
    "if valid_pin(pin_input):\n",
    "    print(\"Valid PIN.\")\n",
    "else:\n",
    "    print(\"Invalid PIN. A valid PIN must be exactly 4 or 6 digits.\")"
   ]
  },
  {
   "cell_type": "code",
   "execution_count": 26,
   "id": "f507af6a-9384-4aa0-9cd3-9a2c74d68a80",
   "metadata": {},
   "outputs": [],
   "source": [
    "def find_smallest(int_list):\n",
    "  lista1 = int_list.min()\n",
    "  return lista1"
   ]
  },
  {
   "cell_type": "code",
   "execution_count": 5,
   "id": "97a1f409-c284-47f6-8717-4b2760c08967",
   "metadata": {},
   "outputs": [
    {
     "data": {
      "text/plain": [
       "2"
      ]
     },
     "execution_count": 5,
     "metadata": {},
     "output_type": "execute_result"
    }
   ],
   "source": [
    "lista2 = [34, 15, 88, 2]\n",
    "find_smallest(lista2)"
   ]
  },
  {
   "cell_type": "code",
   "execution_count": 34,
   "id": "e759561e-e990-4c83-b257-fcc9c7b20108",
   "metadata": {},
   "outputs": [
    {
     "data": {
      "text/plain": [
       "2"
      ]
     },
     "execution_count": 34,
     "metadata": {},
     "output_type": "execute_result"
    }
   ],
   "source": [
    "min(lista2)"
   ]
  },
  {
   "cell_type": "code",
   "execution_count": 1,
   "id": "eb194bd5-302a-4068-90ab-f6b3b7a6be1f",
   "metadata": {},
   "outputs": [],
   "source": [
    "def find_smallest (int_list):\n",
    "  lista1 = min(int_list)\n",
    "  return lista1"
   ]
  },
  {
   "cell_type": "code",
   "execution_count": 7,
   "id": "aed7215a-780b-4a0b-a0df-dbc4f8b2d907",
   "metadata": {},
   "outputs": [
    {
     "data": {
      "text/plain": [
       "2"
      ]
     },
     "execution_count": 7,
     "metadata": {},
     "output_type": "execute_result"
    }
   ],
   "source": [
    "find_smallest(lista2)"
   ]
  },
  {
   "cell_type": "code",
   "execution_count": 9,
   "id": "c5b8057f-fe9b-4936-9b5e-3dbeb81a2799",
   "metadata": {},
   "outputs": [
    {
     "data": {
      "text/plain": [
       "2"
      ]
     },
     "execution_count": 9,
     "metadata": {},
     "output_type": "execute_result"
    }
   ],
   "source": [
    "min(lista2)"
   ]
  },
  {
   "cell_type": "code",
   "execution_count": 11,
   "id": "80563e55-a67f-43e5-8d7b-a74564870d91",
   "metadata": {},
   "outputs": [
    {
     "data": {
      "text/plain": [
       "4"
      ]
     },
     "execution_count": 11,
     "metadata": {},
     "output_type": "execute_result"
    }
   ],
   "source": [
    "len(lista2)"
   ]
  },
  {
   "cell_type": "code",
   "execution_count": 73,
   "id": "8881a6b0-f565-4ac3-adb0-6d9dc562825d",
   "metadata": {},
   "outputs": [],
   "source": [
    "pin1 = \"02g54\""
   ]
  },
  {
   "cell_type": "code",
   "execution_count": 45,
   "id": "92bc0b4c-da38-439f-8b0e-4e65ef99c480",
   "metadata": {},
   "outputs": [],
   "source": [
    "valid_lens = len(pin1) == 4 or len(pin1) == 6\n",
    "    "
   ]
  },
  {
   "cell_type": "code",
   "execution_count": 47,
   "id": "75e7a42c-5561-47c9-a034-d06558fd5e59",
   "metadata": {},
   "outputs": [
    {
     "name": "stdout",
     "output_type": "stream",
     "text": [
      "False\n"
     ]
    }
   ],
   "source": [
    "print(valid_lens)"
   ]
  },
  {
   "cell_type": "code",
   "execution_count": 67,
   "id": "8a655b2d-2d3f-4b48-b41b-113d7cf36a4e",
   "metadata": {},
   "outputs": [
    {
     "data": {
      "text/plain": [
       "2554"
      ]
     },
     "execution_count": 67,
     "metadata": {},
     "output_type": "execute_result"
    }
   ],
   "source": [
    "int(pin1)"
   ]
  },
  {
   "cell_type": "code",
   "execution_count": 83,
   "id": "aaeb1052-14c2-4494-b139-d1f09a982b94",
   "metadata": {},
   "outputs": [
    {
     "name": "stdout",
     "output_type": "stream",
     "text": [
      "ingrese un integer:\n"
     ]
    }
   ],
   "source": [
    "try:\n",
    "    int(pin1) == True\n",
    "\n",
    "except ValueError:\n",
    "    print(\"ingrese un integer:\")\n"
   ]
  },
  {
   "cell_type": "code",
   "execution_count": null,
   "id": "8f7ad013-bb13-4ae4-801e-1ac12865fe28",
   "metadata": {},
   "outputs": [],
   "source": [
    "def valid_pins(pin):\n",
    "    int(pin1) == True"
   ]
  },
  {
   "cell_type": "code",
   "execution_count": 93,
   "id": "333fbcf1-616a-4282-b56e-cbfb81336574",
   "metadata": {},
   "outputs": [],
   "source": [
    "def valid_pin(pin):\n",
    "    return (len(pin) == 4 or len(pin) == 6) and pin.isdigit()"
   ]
  },
  {
   "cell_type": "code",
   "execution_count": 99,
   "id": "71f52feb-8458-4ca8-9e83-b8f788a03723",
   "metadata": {},
   "outputs": [
    {
     "data": {
      "text/plain": [
       "False"
      ]
     },
     "execution_count": 99,
     "metadata": {},
     "output_type": "execute_result"
    }
   ],
   "source": [
    "valid_pin(\"5g77\")"
   ]
  },
  {
   "cell_type": "code",
   "execution_count": 111,
   "id": "d858d68f-aff3-42ee-957d-bb7f750c5acc",
   "metadata": {},
   "outputs": [],
   "source": [
    "def funcion1(x):\n",
    "    if x[0] in [\"A\",\"a\",1,\"1\"]:\n",
    "        return 1\n",
    "    elif x[0] in [\"B\",\"b\",2,\"2\"]:\n",
    "        return 0\n",
    "    else:\n",
    "        return -1\n",
    "    "
   ]
  },
  {
   "cell_type": "code",
   "execution_count": 149,
   "id": "a200a97f-59f3-4504-8587-47e21413d95d",
   "metadata": {},
   "outputs": [],
   "source": [
    "g = 2565"
   ]
  },
  {
   "cell_type": "code",
   "execution_count": 151,
   "id": "3b04935a-e788-4296-b451-f9a8f35bbe70",
   "metadata": {},
   "outputs": [
    {
     "ename": "TypeError",
     "evalue": "'int' object is not subscriptable",
     "output_type": "error",
     "traceback": [
      "\u001b[1;31m---------------------------------------------------------------------------\u001b[0m",
      "\u001b[1;31mTypeError\u001b[0m                                 Traceback (most recent call last)",
      "Cell \u001b[1;32mIn[151], line 1\u001b[0m\n\u001b[1;32m----> 1\u001b[0m funcion1(g)\n",
      "Cell \u001b[1;32mIn[111], line 2\u001b[0m, in \u001b[0;36mfuncion1\u001b[1;34m(x)\u001b[0m\n\u001b[0;32m      1\u001b[0m \u001b[38;5;28;01mdef\u001b[39;00m \u001b[38;5;21mfuncion1\u001b[39m(x):\n\u001b[1;32m----> 2\u001b[0m     \u001b[38;5;28;01mif\u001b[39;00m x[\u001b[38;5;241m0\u001b[39m] \u001b[38;5;129;01min\u001b[39;00m [\u001b[38;5;124m\"\u001b[39m\u001b[38;5;124mA\u001b[39m\u001b[38;5;124m\"\u001b[39m,\u001b[38;5;124m\"\u001b[39m\u001b[38;5;124ma\u001b[39m\u001b[38;5;124m\"\u001b[39m,\u001b[38;5;241m1\u001b[39m,\u001b[38;5;124m\"\u001b[39m\u001b[38;5;124m1\u001b[39m\u001b[38;5;124m\"\u001b[39m]:\n\u001b[0;32m      3\u001b[0m         \u001b[38;5;28;01mreturn\u001b[39;00m \u001b[38;5;241m1\u001b[39m\n\u001b[0;32m      4\u001b[0m     \u001b[38;5;28;01melif\u001b[39;00m x[\u001b[38;5;241m0\u001b[39m] \u001b[38;5;129;01min\u001b[39;00m [\u001b[38;5;124m\"\u001b[39m\u001b[38;5;124mB\u001b[39m\u001b[38;5;124m\"\u001b[39m,\u001b[38;5;124m\"\u001b[39m\u001b[38;5;124mb\u001b[39m\u001b[38;5;124m\"\u001b[39m,\u001b[38;5;241m2\u001b[39m,\u001b[38;5;124m\"\u001b[39m\u001b[38;5;124m2\u001b[39m\u001b[38;5;124m\"\u001b[39m]:\n",
      "\u001b[1;31mTypeError\u001b[0m: 'int' object is not subscriptable"
     ]
    }
   ],
   "source": [
    "funcion1(g)"
   ]
  },
  {
   "cell_type": "code",
   "execution_count": 157,
   "id": "c75e7569-7e26-4a11-b2d4-22996049a2d9",
   "metadata": {},
   "outputs": [
    {
     "data": {
      "text/plain": [
       "1"
      ]
     },
     "execution_count": 157,
     "metadata": {},
     "output_type": "execute_result"
    }
   ],
   "source": [
    "10 % 3"
   ]
  },
  {
   "cell_type": "code",
   "execution_count": 191,
   "id": "6b76c089-4629-4da2-8e2d-c76436372316",
   "metadata": {},
   "outputs": [
    {
     "name": "stdout",
     "output_type": "stream",
     "text": [
      "0\n",
      "3\n",
      "5\n",
      "6\n",
      "9\n"
     ]
    }
   ],
   "source": [
    "b = 10\n",
    "h = []\n",
    "for x in range(b):\n",
    "    if x % 3 == 0 or x % 5 == 0:\n",
    "        print(x)\n",
    "        h.append(x)\n",
    "    \n",
    "    "
   ]
  },
  {
   "cell_type": "code",
   "execution_count": 197,
   "id": "f517629c-0d24-4d02-8c6b-486e97926977",
   "metadata": {},
   "outputs": [
    {
     "data": {
      "text/plain": [
       "23"
      ]
     },
     "execution_count": 197,
     "metadata": {},
     "output_type": "execute_result"
    }
   ],
   "source": [
    "sum(h)"
   ]
  },
  {
   "cell_type": "code",
   "execution_count": 224,
   "id": "90a2315f-d3da-435e-947c-1acf1c04fd13",
   "metadata": {},
   "outputs": [],
   "source": [
    "def multiples_of_3_and_5(b):\n",
    "  h=[]\n",
    "  for x in range(b):\n",
    "    if x % 3 == 0 or x % 5 == 0:\n",
    "        h.append(x)\n",
    "  return sum(h)"
   ]
  },
  {
   "cell_type": "code",
   "execution_count": 230,
   "id": "a14dc042-f78d-4b1f-97f4-0c655eeb88d4",
   "metadata": {},
   "outputs": [
    {
     "data": {
      "text/plain": [
       "9168"
      ]
     },
     "execution_count": 230,
     "metadata": {},
     "output_type": "execute_result"
    }
   ],
   "source": [
    "multiples_of_3_and_5(200)"
   ]
  },
  {
   "cell_type": "code",
   "execution_count": 232,
   "id": "e06441a3-85a1-419d-b260-9b244bb02b0c",
   "metadata": {},
   "outputs": [],
   "source": [
    "def funcion1(x):\n",
    "  if x[0] in [\"A\",\"a\",1,\"1\"]:\n",
    "    return 1\n",
    "  elif x[0] in [\"B\",\"b\",2,\"2\"]:\n",
    "    return 0\n",
    "  else:\n",
    "    return -1"
   ]
  },
  {
   "cell_type": "code",
   "execution_count": 234,
   "id": "3f4489ca-5868-4752-998e-e3823b5364ae",
   "metadata": {},
   "outputs": [
    {
     "data": {
      "text/plain": [
       "-1"
      ]
     },
     "execution_count": 234,
     "metadata": {},
     "output_type": "execute_result"
    }
   ],
   "source": [
    "funcion1(\"casa\")"
   ]
  },
  {
   "cell_type": "code",
   "execution_count": 252,
   "id": "0272ab0e-3380-4490-9e0a-5eb792fd07fa",
   "metadata": {},
   "outputs": [],
   "source": [
    "def difference_of_n_x(n):\n",
    "  h=[]\n",
    "  for x in range(1,n+1):\n",
    "    if x % 4 == 0 or x % 9 == 0:\n",
    "        h.append(x)\n",
    "  return n - sum(h)"
   ]
  },
  {
   "cell_type": "code",
   "execution_count": 254,
   "id": "bd0ac373-6b7e-4331-859b-630b4c66fb60",
   "metadata": {},
   "outputs": [
    {
     "data": {
      "text/plain": [
       "-67"
      ]
     },
     "execution_count": 254,
     "metadata": {},
     "output_type": "execute_result"
    }
   ],
   "source": [
    "difference_of_n_x(20)"
   ]
  },
  {
   "cell_type": "code",
   "execution_count": 256,
   "id": "7ba33308-9595-4169-8ac4-e2f09df0004b",
   "metadata": {},
   "outputs": [],
   "source": [
    "def difference_of_n_x(n):\n",
    "  h=[]\n",
    "  for x in range(1,n+1):\n",
    "    if x % 4 == 0 or x % 9 == 0:\n",
    "        h.append(x)\n",
    "  return n - sum(h)"
   ]
  },
  {
   "cell_type": "code",
   "execution_count": 264,
   "id": "40bf8faa-6cb4-4621-a48e-41a665df77fe",
   "metadata": {},
   "outputs": [
    {
     "data": {
      "text/plain": [
       "-48"
      ]
     },
     "execution_count": 264,
     "metadata": {},
     "output_type": "execute_result"
    }
   ],
   "source": [
    "difference_of_n_x(19)"
   ]
  },
  {
   "cell_type": "code",
   "execution_count": null,
   "id": "4c8396fe-932b-45f5-8661-d1c1058cefa8",
   "metadata": {},
   "outputs": [],
   "source": []
  }
 ],
 "metadata": {
  "kernelspec": {
   "display_name": "Python 3 (ipykernel)",
   "language": "python",
   "name": "python3"
  },
  "language_info": {
   "codemirror_mode": {
    "name": "ipython",
    "version": 3
   },
   "file_extension": ".py",
   "mimetype": "text/x-python",
   "name": "python",
   "nbconvert_exporter": "python",
   "pygments_lexer": "ipython3",
   "version": "3.12.4"
  }
 },
 "nbformat": 4,
 "nbformat_minor": 5
}
